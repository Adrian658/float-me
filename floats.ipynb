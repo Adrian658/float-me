{
 "cells": [
  {
   "cell_type": "code",
   "execution_count": 627,
   "metadata": {},
   "outputs": [],
   "source": [
    "import pandas as pd\n",
    "from decimal import Decimal\n",
    "import time\n",
    "import struct"
   ]
  },
  {
   "cell_type": "code",
   "execution_count": 633,
   "metadata": {},
   "outputs": [],
   "source": [
    "def native_binary(num):\n",
    "    x = ''.join('{:0>8b}'.format(c) for c in struct.pack('!f', num))\n",
    "    print(\"Sign - Exponent - Mantissa\")\n",
    "    return x [0] + \" - \" + x[1:9] + \" - \" + x[9:]"
   ]
  },
  {
   "cell_type": "code",
   "execution_count": 634,
   "metadata": {},
   "outputs": [],
   "source": [
    "def pack_float(num):\n",
    "    '''\n",
    "    Function:\n",
    "        Converts a floating point number to the IEEE 754 32-bit base-2 floating-point variable format\n",
    "    \n",
    "    Params:\n",
    "        num: floating point number to pack\n",
    "    '''\n",
    "    \n",
    "    if num >= 0:\n",
    "        sign = '0'\n",
    "    else:\n",
    "        sign = '1'\n",
    "        num  = abs(num)\n",
    "    # Convert float number to binary representation\n",
    "    binary_num = convert_float_to_binary(num)\n",
    "    # Normalize the mantissa\n",
    "    try:\n",
    "        cur_decimal = binary_num.find('.')\n",
    "        shifted_decimal = binary_num.index('1') + 1\n",
    "    except ValueError:\n",
    "        shifted_decimal = cur_decimal\n",
    "        shift = -127\n",
    "    else:\n",
    "        shift = cur_decimal - shifted_decimal\n",
    "        if shift < 0:\n",
    "            shift+=1\n",
    "    # Find the final exponent and mantissa\n",
    "    exponent = convert_whole_to_binary(shift + 127)\n",
    "    exponent = \"\".join(['0']*(8 - len(exponent))) + exponent\n",
    "    mantissa = binary_num[shifted_decimal:].replace(\".\", \"\")\n",
    "    mantissa = mantissa + \"\".join(['0']*(23 - len(mantissa)))\n",
    "    mantissa = mantissa[0:23]\n",
    "    print(\"Sign - Exponent - Mantissa\")\n",
    "    return sign + \" - \" + exponent + \" - \" + mantissa"
   ]
  },
  {
   "cell_type": "code",
   "execution_count": 635,
   "metadata": {},
   "outputs": [],
   "source": [
    "def convert_float_to_binary(num):\n",
    "    num_split = str(num).split(\".\")\n",
    "    try:\n",
    "        num_split[1] = \"0.\" + num_split[1]\n",
    "    except IndexError:\n",
    "        num_split.append(\"0.0\")\n",
    "    num_split = list(map(lambda x : float(x), num_split))\n",
    "    binary_whole = convert_whole_to_binary(num_split[0])\n",
    "    binary_fraction = convert_fraction_to_binary(num_split[1])\n",
    "    return binary_whole + \".\" + binary_fraction"
   ]
  },
  {
   "cell_type": "code",
   "execution_count": 636,
   "metadata": {},
   "outputs": [],
   "source": [
    "def convert_whole_to_binary(num):\n",
    "    binary = [0]*128\n",
    "    length = 0\n",
    "    quotient = int(num)\n",
    "    while True:\n",
    "        remainder = str(quotient % 2)\n",
    "        quotient = int(quotient / 2)\n",
    "        binary[length] = remainder\n",
    "        length+=1\n",
    "        if quotient == 0:\n",
    "            break\n",
    "    binary = binary[0:length]\n",
    "    binary.reverse()\n",
    "    return \"\".join(binary)"
   ]
  },
  {
   "cell_type": "code",
   "execution_count": 637,
   "metadata": {},
   "outputs": [],
   "source": [
    "def convert_fraction_to_binary(num):\n",
    "    binary = []\n",
    "    product = num\n",
    "    while True:\n",
    "        product = product * 2\n",
    "        carry = int(product)\n",
    "        product = product - carry\n",
    "        binary.append(str(carry))\n",
    "        if product == 0:\n",
    "            break\n",
    "    return \"\".join(binary)"
   ]
  },
  {
   "cell_type": "code",
   "execution_count": 638,
   "metadata": {},
   "outputs": [],
   "source": [
    "def test_packing_time(test):\n",
    "    total = 0\n",
    "    test_range = 1000000\n",
    "    for i in range(test_range):\n",
    "        start = time.time()\n",
    "        pack_float(test)\n",
    "        total+=time.time() - start\n",
    "    return total / test_range"
   ]
  },
  {
   "cell_type": "code",
   "execution_count": 639,
   "metadata": {},
   "outputs": [],
   "source": [
    "max_float = Decimal(3.4028235e+38)\n",
    "test_num = 0.93994"
   ]
  },
  {
   "cell_type": "code",
   "execution_count": 640,
   "metadata": {
    "scrolled": false
   },
   "outputs": [
    {
     "name": "stdout",
     "output_type": "stream",
     "text": [
      "Sign - Exponent - Mantissa\n"
     ]
    },
    {
     "data": {
      "text/plain": [
       "'0 - 01111110 - 11100001001111111101000'"
      ]
     },
     "execution_count": 640,
     "metadata": {},
     "output_type": "execute_result"
    }
   ],
   "source": [
    "pack_float(test_num)"
   ]
  },
  {
   "cell_type": "code",
   "execution_count": 641,
   "metadata": {},
   "outputs": [
    {
     "name": "stdout",
     "output_type": "stream",
     "text": [
      "Sign - Exponent - Mantissa\n"
     ]
    },
    {
     "data": {
      "text/plain": [
       "'0 - 01111110 - 11100001001111111101000'"
      ]
     },
     "execution_count": 641,
     "metadata": {},
     "output_type": "execute_result"
    }
   ],
   "source": [
    "native_binary(test_num)"
   ]
  },
  {
   "cell_type": "code",
   "execution_count": null,
   "metadata": {},
   "outputs": [],
   "source": []
  },
  {
   "cell_type": "code",
   "execution_count": null,
   "metadata": {},
   "outputs": [],
   "source": []
  }
 ],
 "metadata": {
  "kernelspec": {
   "display_name": "Python 3",
   "language": "python",
   "name": "python3"
  },
  "language_info": {
   "codemirror_mode": {
    "name": "ipython",
    "version": 3
   },
   "file_extension": ".py",
   "mimetype": "text/x-python",
   "name": "python",
   "nbconvert_exporter": "python",
   "pygments_lexer": "ipython3",
   "version": "3.7.3"
  }
 },
 "nbformat": 4,
 "nbformat_minor": 2
}
